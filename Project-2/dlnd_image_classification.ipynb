{
 "cells": [
  {
   "cell_type": "markdown",
   "metadata": {
    "collapsed": true
   },
   "source": [
    "# Image Classification\n",
    "In this project, you'll classify images from the [CIFAR-10 dataset](https://www.cs.toronto.edu/~kriz/cifar.html).  The dataset consists of airplanes, dogs, cats, and other objects. You'll preprocess the images, then train a convolutional neural network on all the samples. The images need to be normalized and the labels need to be one-hot encoded.  You'll get to apply what you learned and build a convolutional, max pooling, dropout, and fully connected layers.  At the end, you'll get to see your neural network's predictions on the sample images.\n",
    "## Get the Data\n",
    "Run the following cell to download the [CIFAR-10 dataset for python](https://www.cs.toronto.edu/~kriz/cifar-10-python.tar.gz)."
   ]
  },
  {
   "cell_type": "code",
   "execution_count": 2,
   "metadata": {
    "collapsed": false
   },
   "outputs": [
    {
     "name": "stdout",
     "output_type": "stream",
     "text": [
      "All files found!\n"
     ]
    }
   ],
   "source": [
    "\"\"\"\n",
    "DON'T MODIFY ANYTHING IN THIS CELL THAT IS BELOW THIS LINE\n",
    "\"\"\"\n",
    "from urllib.request import urlretrieve\n",
    "from os.path import isfile, isdir\n",
    "from tqdm import tqdm\n",
    "import problem_unittests as tests\n",
    "import tarfile\n",
    "\n",
    "cifar10_dataset_folder_path = 'cifar-10-batches-py'\n",
    "\n",
    "# Use Floyd's cifar-10 dataset if present\n",
    "floyd_cifar10_location = '/cifar/cifar-10-python.tar.gz'\n",
    "if isfile(floyd_cifar10_location):\n",
    "    tar_gz_path = floyd_cifar10_location\n",
    "else:\n",
    "    tar_gz_path = 'cifar-10-python.tar.gz'\n",
    "\n",
    "class DLProgress(tqdm):\n",
    "    last_block = 0\n",
    "\n",
    "    def hook(self, block_num=1, block_size=1, total_size=None):\n",
    "        self.total = total_size\n",
    "        self.update((block_num - self.last_block) * block_size)\n",
    "        self.last_block = block_num\n",
    "\n",
    "if not isfile(tar_gz_path):\n",
    "    with DLProgress(unit='B', unit_scale=True, miniters=1, desc='CIFAR-10 Dataset') as pbar:\n",
    "        urlretrieve(\n",
    "            'https://www.cs.toronto.edu/~kriz/cifar-10-python.tar.gz',\n",
    "            tar_gz_path,\n",
    "            pbar.hook)\n",
    "\n",
    "if not isdir(cifar10_dataset_folder_path):\n",
    "    with tarfile.open(tar_gz_path) as tar:\n",
    "        tar.extractall()\n",
    "        tar.close()\n",
    "\n",
    "\n",
    "tests.test_folder_path(cifar10_dataset_folder_path)"
   ]
  },
  {
   "cell_type": "markdown",
   "metadata": {},
   "source": [
    "## Explore the Data\n",
    "The dataset is broken into batches to prevent your machine from running out of memory.  The CIFAR-10 dataset consists of 5 batches, named `data_batch_1`, `data_batch_2`, etc.. Each batch contains the labels and images that are one of the following:\n",
    "* airplane\n",
    "* automobile\n",
    "* bird\n",
    "* cat\n",
    "* deer\n",
    "* dog\n",
    "* frog\n",
    "* horse\n",
    "* ship\n",
    "* truck\n",
    "\n",
    "Understanding a dataset is part of making predictions on the data.  Play around with the code cell below by changing the `batch_id` and `sample_id`. The `batch_id` is the id for a batch (1-5). The `sample_id` is the id for a image and label pair in the batch.\n",
    "\n",
    "Ask yourself \"What are all possible labels?\", \"What is the range of values for the image data?\", \"Are the labels in order or random?\".  Answers to questions like these will help you preprocess the data and end up with better predictions."
   ]
  },
  {
   "cell_type": "code",
   "execution_count": 3,
   "metadata": {
    "collapsed": false
   },
   "outputs": [
    {
     "name": "stdout",
     "output_type": "stream",
     "text": [
      "\n",
      "Stats of batch 3:\n",
      "Samples: 10000\n",
      "Label Counts: {0: 994, 1: 1042, 2: 965, 3: 997, 4: 990, 5: 1029, 6: 978, 7: 1015, 8: 961, 9: 1029}\n",
      "First 20 Labels: [8, 5, 0, 6, 9, 2, 8, 3, 6, 2, 7, 4, 6, 9, 0, 0, 7, 3, 7, 2]\n",
      "\n",
      "Example of Image 3:\n",
      "Image - Min Value: 40 Max Value: 255\n",
      "Image - Shape: (32, 32, 3)\n",
      "Label - Label Id: 6 Name: frog\n"
     ]
    },
    {
     "data": {
      "image/png": "[encoded data removed]",
      "text/plain": [
       "<matplotlib.figure.Figure at 0x11b57df98>"
      ]
     },
     "metadata": {
      "image/png": {
       "height": 250,
       "width": 253
      }
     },
     "output_type": "display_data"
    }
   ],
   "source": [
    "%matplotlib inline\n",
    "%config InlineBackend.figure_format = 'retina'\n",
    "\n",
    "import helper\n",
    "import numpy as np\n",
    "\n",
    "# Explore the dataset\n",
    "batch_id = 3\n",
    "sample_id = 3\n",
    "helper.display_stats(cifar10_dataset_folder_path, batch_id, sample_id)"
   ]
  },
  {
   "cell_type": "markdown",
   "metadata": {},
   "source": [
    "## Implement Preprocess Functions\n",
    "### Normalize\n",
    "In the cell below, implement the `normalize` function to take in image data, `x`, and return it as a normalized Numpy array. The values should be in the range of 0 to 1, inclusive.  The return object should be the same shape as `x`."
   ]
  },
  {
   "cell_type": "code",
   "execution_count": 4,
   "metadata": {
    "collapsed": false
   },
   "outputs": [
    {
     "name": "stdout",
     "output_type": "stream",
     "text": [
      "Tests Passed\n"
     ]
    }
   ],
   "source": [
    "def normalize(x):\n",
    "    \"\"\"\n",
    "    Normalize a list of sample image data in the range of 0 to 1\n",
    "    : x: List of image data.  The image shape is (32, 32, 3)\n",
    "    : return: Numpy array of normalize data\n",
    "    \"\"\"\n",
    "    return np.array((x) / (255))\n",
    "\n",
    "\n",
    "\"\"\"\n",
    "DON'T MODIFY ANYTHING IN THIS CELL THAT IS BELOW THIS LINE\n",
    "\"\"\"\n",
    "tests.test_normalize(normalize)"
   ]
  },
  {
   "cell_type": "markdown",
   "metadata": {},
   "source": [
    "### One-hot encode\n",
    "Just like the previous code cell, you'll be implementing a function for preprocessing.  This time, you'll implement the `one_hot_encode` function. The input, `x`, are a list of labels.  Implement the function to return the list of labels as One-Hot encoded Numpy array.  The possible values for labels are 0 to 9. The one-hot encoding function should return the same encoding for each value between each call to `one_hot_encode`.  Make sure to save the map of encodings outside the function.\n",
    "\n",
    "Hint: Don't reinvent the wheel."
   ]
  },
  {
   "cell_type": "code",
   "execution_count": 5,
   "metadata": {
    "collapsed": false
   },
   "outputs": [
    {
     "name": "stdout",
     "output_type": "stream",
     "text": [
      "Tests Passed\n"
     ]
    }
   ],
   "source": [
    "def one_hot_encode(x):\n",
    "    \"\"\"\n",
    "    One hot encode a list of sample labels. Return a one-hot encoded vector for each label.\n",
    "    : x: List of sample Labels\n",
    "    : return: Numpy array of one-hot encoded labels\n",
    "    \"\"\"\n",
    "    y = np.zeros((len(x),10))\n",
    "    y[np.arange(len(x)), x] = 1\n",
    "    return y\n",
    "\n",
    "\"\"\"\n",
    "DON'T MODIFY ANYTHING IN THIS CELL THAT IS BELOW THIS LINE\n",
    "\"\"\"\n",
    "tests.test_one_hot_encode(one_hot_encode)"
   ]
  },
  {
   "cell_type": "markdown",
   "metadata": {},
   "source": [
    "### Randomize Data\n",
    "As you saw from exploring the data above, the order of the samples are randomized.  It doesn't hurt to randomize it again, but you don't need to for this dataset."
   ]
  },
  {
   "cell_type": "markdown",
   "metadata": {},
   "source": [
    "## Preprocess all the data and save it\n",
    "Running the code cell below will preprocess all the CIFAR-10 data and save it to file. The code below also uses 10% of the training data for validation."
   ]
  },
  {
   "cell_type": "code",
   "execution_count": 6,
   "metadata": {
    "collapsed": true
   },
   "outputs": [],
   "source": [
    "\"\"\"\n",
    "DON'T MODIFY ANYTHING IN THIS CELL\n",
    "\"\"\"\n",
    "# Preprocess Training, Validation, and Testing Data\n",
    "helper.preprocess_and_save_data(cifar10_dataset_folder_path, normalize, one_hot_encode)"
   ]
  },
  {
   "cell_type": "markdown",
   "metadata": {},
   "source": [
    "# Check Point\n",
    "This is your first checkpoint.  If you ever decide to come back to this notebook or have to restart the notebook, you can start from here.  The preprocessed data has been saved to disk."
   ]
  },
  {
   "cell_type": "code",
   "execution_count": 7,
   "metadata": {
    "collapsed": true
   },
   "outputs": [],
   "source": [
    "\"\"\"\n",
    "DON'T MODIFY ANYTHING IN THIS CELL\n",
    "\"\"\"\n",
    "import pickle\n",
    "import problem_unittests as tests\n",
    "import helper\n",
    "\n",
    "# Load the Preprocessed Validation data\n",
    "valid_features, valid_labels = pickle.load(open('preprocess_validation.p', mode='rb'))"
   ]
  },
  {
   "cell_type": "markdown",
   "metadata": {},
   "source": [
    "## Build the network\n",
    "For the neural network, you'll build each layer into a function.  Most of the code you've seen has been outside of functions. To test your code more thoroughly, we require that you put each layer in a function.  This allows us to give you better feedback and test for simple mistakes using our unittests before you submit your project.\n",
    "\n",
    ">**Note:** If you're finding it hard to dedicate enough time for this course each week, we've provided a small shortcut to this part of the project. In the next couple of problems, you'll have the option to use classes from the [TensorFlow Layers](https://www.tensorflow.org/api_docs/python/tf/layers) or [TensorFlow Layers (contrib)](https://www.tensorflow.org/api_guides/python/contrib.layers) packages to build each layer, except the layers you build in the \"Convolutional and Max Pooling Layer\" section.  TF Layers is similar to Keras's and TFLearn's abstraction to layers, so it's easy to pickup.\n",
    "\n",
    ">However, if you would like to get the most out of this course, try to solve all the problems _without_ using anything from the TF Layers packages. You **can** still use classes from other packages that happen to have the same name as ones you find in TF Layers! For example, instead of using the TF Layers version of the `conv2d` class, [tf.layers.conv2d](https://www.tensorflow.org/api_docs/python/tf/layers/conv2d), you would want to use the TF Neural Network version of `conv2d`, [tf.nn.conv2d](https://www.tensorflow.org/api_docs/python/tf/nn/conv2d). \n",
    "\n",
    "Let's begin!\n",
    "\n",
    "### Input\n",
    "The neural network needs to read the image data, one-hot encoded labels, and dropout keep probability. Implement the following functions\n",
    "* Implement `neural_net_image_input`\n",
    " * Return a [TF Placeholder](https://www.tensorflow.org/api_docs/python/tf/placeholder)\n",
    " * Set the shape using `image_shape` with batch size set to `None`.\n",
    " * Name the TensorFlow placeholder \"x\" using the TensorFlow `name` parameter in the [TF Placeholder](https://www.tensorflow.org/api_docs/python/tf/placeholder).\n",
    "* Implement `neural_net_label_input`\n",
    " * Return a [TF Placeholder](https://www.tensorflow.org/api_docs/python/tf/placeholder)\n",
    " * Set the shape using `n_classes` with batch size set to `None`.\n",
    " * Name the TensorFlow placeholder \"y\" using the TensorFlow `name` parameter in the [TF Placeholder](https://www.tensorflow.org/api_docs/python/tf/placeholder).\n",
    "* Implement `neural_net_keep_prob_input`\n",
    " * Return a [TF Placeholder](https://www.tensorflow.org/api_docs/python/tf/placeholder) for dropout keep probability.\n",
    " * Name the TensorFlow placeholder \"keep_prob\" using the TensorFlow `name` parameter in the [TF Placeholder](https://www.tensorflow.org/api_docs/python/tf/placeholder).\n",
    "\n",
    "These names will be used at the end of the project to load your saved model.\n",
    "\n",
    "Note: `None` for shapes in TensorFlow allow for a dynamic size."
   ]
  },
  {
   "cell_type": "code",
   "execution_count": 8,
   "metadata": {
    "collapsed": false
   },
   "outputs": [
    {
     "name": "stdout",
     "output_type": "stream",
     "text": [
      "Image Input Tests Passed.\n",
      "Label Input Tests Passed.\n",
      "Keep Prob Tests Passed.\n"
     ]
    }
   ],
   "source": [
    "import tensorflow as tf\n",
    "\n",
    "def neural_net_image_input(image_shape):\n",
    "    \"\"\"\n",
    "    Return a Tensor for a batch of image input\n",
    "    : image_shape: Shape of the images\n",
    "    : return: Tensor for image input.\n",
    "    \"\"\"\n",
    "    # TODO: Implement Function\n",
    "    return tf.placeholder(tf.float32, [None, image_shape[0], image_shape[1], image_shape[2]], name='x' )\n",
    "\n",
    "\n",
    "def neural_net_label_input(n_classes):\n",
    "    \"\"\"\n",
    "    Return a Tensor for a batch of label input\n",
    "    : n_classes: Number of classes\n",
    "    : return: Tensor for label input.\n",
    "    \"\"\"\n",
    "    # TODO: Implement Function\n",
    "    return tf.placeholder(tf.int32,[None, n_classes], name = 'y')\n",
    "\n",
    "\n",
    "def neural_net_keep_prob_input():\n",
    "    \"\"\"\n",
    "    Return a Tensor for keep probability\n",
    "    : return: Tensor for keep probability.\n",
    "    \"\"\"\n",
    "    # TODO: Implement Function\n",
    "    return tf.placeholder(tf.float32, name = 'keep_prob')\n",
    "\n",
    "\n",
    "\"\"\"\n",
    "DON'T MODIFY ANYTHING IN THIS CELL THAT IS BELOW THIS LINE\n",
    "\"\"\"\n",
    "tf.reset_default_graph()\n",
    "tests.test_nn_image_inputs(neural_net_image_input)\n",
    "tests.test_nn_label_inputs(neural_net_label_input)\n",
    "tests.test_nn_keep_prob_inputs(neural_net_keep_prob_input)"
   ]
  },
  {
   "cell_type": "markdown",
   "metadata": {},
   "source": [
    "### Convolution and Max Pooling Layer\n",
    "Convolution layers have a lot of success with images. For this code cell, you should implement the function `conv2d_maxpool` to apply convolution then max pooling:\n",
    "* Create the weight and bias using `conv_ksize`, `conv_num_outputs` and the shape of `x_tensor`.\n",
    "* Apply a convolution to `x_tensor` using weight and `conv_strides`.\n",
    " * We recommend you use same padding, but you're welcome to use any padding.\n",
    "* Add bias\n",
    "* Add a nonlinear activation to the convolution.\n",
    "* Apply Max Pooling using `pool_ksize` and `pool_strides`.\n",
    " * We recommend you use same padding, but you're welcome to use any padding.\n",
    "\n",
    "**Note:** You **can't** use [TensorFlow Layers](https://www.tensorflow.org/api_docs/python/tf/layers) or [TensorFlow Layers (contrib)](https://www.tensorflow.org/api_guides/python/contrib.layers) for **this** layer, but you can still use TensorFlow's [Neural Network](https://www.tensorflow.org/api_docs/python/tf/nn) package. You may still use the shortcut option for all the **other** layers."
   ]
  },
  {
   "cell_type": "code",
   "execution_count": 9,
   "metadata": {
    "collapsed": false
   },
   "outputs": [
    {
     "name": "stdout",
     "output_type": "stream",
     "text": [
      "Tests Passed\n"
     ]
    }
   ],
   "source": [
    "def conv2d_maxpool(x_tensor, conv_num_outputs, conv_ksize, conv_strides, pool_ksize, pool_strides):\n",
    "    \"\"\"\n",
    "    Apply convolution then max pooling to x_tensor\n",
    "    :param x_tensor: TensorFlow Tensor\n",
    "    :param conv_num_outputs: Number of outputs for the convolutional layer\n",
    "    :param conv_ksize: kernal size 2-D Tuple for the convolutional layer\n",
    "    :param conv_strides: Stride 2-D Tuple for convolution\n",
    "    :param pool_ksize: kernal size 2-D Tuple for pool\n",
    "    :param pool_strides: Stride 2-D Tuple for pool\n",
    "    : return: A tensor that represents convolution and max pooling of x_tensor\n",
    "    \"\"\"\n",
    "   \n",
    "    depth = x_tensor.get_shape().as_list()[3]\n",
    "    weights_tensor = tf.Variable(tf.truncated_normal([conv_ksize[0], conv_ksize[1], depth, conv_num_outputs], mean = 0.0, stddev = 0.01))\n",
    "    biases_tensor = tf.Variable(tf.zeros(conv_num_outputs))\n",
    "    \n",
    "    x_tensor = tf.nn.conv2d(x_tensor, weights_tensor, [1, conv_strides[0], conv_strides[1],1], padding = 'SAME')\n",
    "    x_tensor = tf.nn.bias_add(x_tensor, biases_tensor)\n",
    "    x_tensor = tf.nn.relu(x_tensor)\n",
    "    \n",
    "    # TODO: Implement Function\n",
    "    return tf.nn.max_pool(x_tensor, [1, pool_ksize[0], pool_ksize[1],1], [1, pool_strides[0], pool_strides[1],1], padding = 'SAME') \n",
    "\n",
    "\n",
    "\"\"\"\n",
    "DON'T MODIFY ANYTHING IN THIS CELL THAT IS BELOW THIS LINE\n",
    "\"\"\"\n",
    "tests.test_con_pool(conv2d_maxpool)"
   ]
  },
  {
   "cell_type": "markdown",
   "metadata": {},
   "source": [
    "### Flatten Layer\n",
    "Implement the `flatten` function to change the dimension of `x_tensor` from a 4-D tensor to a 2-D tensor.  The output should be the shape (*Batch Size*, *Flattened Image Size*). Shortcut option: you can use classes from the [TensorFlow Layers](https://www.tensorflow.org/api_docs/python/tf/layers) or [TensorFlow Layers (contrib)](https://www.tensorflow.org/api_guides/python/contrib.layers) packages for this layer. For more of a challenge, only use other TensorFlow packages."
   ]
  },
  {
   "cell_type": "code",
   "execution_count": 10,
   "metadata": {
    "collapsed": false
   },
   "outputs": [
    {
     "name": "stdout",
     "output_type": "stream",
     "text": [
      "Tests Passed\n"
     ]
    }
   ],
   "source": [
    "def flatten(x_tensor):\n",
    "    \"\"\"\n",
    "    Flatten x_tensor to (Batch Size, Flattened Image Size)\n",
    "    : x_tensor: A tensor of size (Batch Size, ...), where ... are the image dimensions.\n",
    "    : return: A tensor of size (Batch Size, Flattened Image Size).\n",
    "    \"\"\"\n",
    "    height = x_tensor.get_shape().as_list()[1]\n",
    "    width = x_tensor.get_shape().as_list()[2]\n",
    "    channels = x_tensor.get_shape().as_list()[3]\n",
    "    image_size = height * width * channels\n",
    "    # TODO: Implement Function\n",
    "    return tf.reshape(x_tensor, [-1, image_size]) \n",
    "\n",
    "\n",
    "\"\"\"\n",
    "DON'T MODIFY ANYTHING IN THIS CELL THAT IS BELOW THIS LINE\n",
    "\"\"\"\n",
    "tests.test_flatten(flatten)"
   ]
  },
  {
   "cell_type": "markdown",
   "metadata": {},
   "source": [
    "### Fully-Connected Layer\n",
    "Implement the `fully_conn` function to apply a fully connected layer to `x_tensor` with the shape (*Batch Size*, *num_outputs*). Shortcut option: you can use classes from the [TensorFlow Layers](https://www.tensorflow.org/api_docs/python/tf/layers) or [TensorFlow Layers (contrib)](https://www.tensorflow.org/api_guides/python/contrib.layers) packages for this layer. For more of a challenge, only use other TensorFlow packages."
   ]
  },
  {
   "cell_type": "code",
   "execution_count": 11,
   "metadata": {
    "collapsed": false
   },
   "outputs": [
    {
     "name": "stdout",
     "output_type": "stream",
     "text": [
      "Tests Passed\n"
     ]
    }
   ],
   "source": [
    "def fully_conn(x_tensor, num_outputs):\n",
    "    \"\"\"\n",
    "    Apply a fully connected layer to x_tensor using weight and bias\n",
    "    : x_tensor: A 2-D tensor where the first dimension is batch size.\n",
    "    : num_outputs: The number of output that the new tensor should be.\n",
    "    : return: A 2-D tensor where the second dimension is num_outputs.\n",
    "    \"\"\"\n",
    "#     input_size = x_tensor.get_shape().as_list()[1]\n",
    "    \n",
    "#     weights = tf.Variable(tf.truncated_normal([input_size, num_outputs]))\n",
    "#     biases = tf.Variable(tf.zeros(num_outputs))\n",
    "    \n",
    "#     full_conn = tf.add(tf.matmul(x_tensor, weights),biases)\n",
    "#     full_conn = tf.nn.relu(full_conn)\n",
    "    # TODO: Implement Function\n",
    "#     return full_conn\n",
    "    return tf.contrib.layers.fully_connected(x_tensor, num_outputs)\n",
    "\n",
    "\n",
    "\"\"\"\n",
    "DON'T MODIFY ANYTHING IN THIS CELL THAT IS BELOW THIS LINE\n",
    "\"\"\"\n",
    "tests.test_fully_conn(fully_conn)"
   ]
  },
  {
   "cell_type": "markdown",
   "metadata": {},
   "source": [
    "### Output Layer\n",
    "Implement the `output` function to apply a fully connected layer to `x_tensor` with the shape (*Batch Size*, *num_outputs*). Shortcut option: you can use classes from the [TensorFlow Layers](https://www.tensorflow.org/api_docs/python/tf/layers) or [TensorFlow Layers (contrib)](https://www.tensorflow.org/api_guides/python/contrib.layers) packages for this layer. For more of a challenge, only use other TensorFlow packages.\n",
    "\n",
    "**Note:** Activation, softmax, or cross entropy should **not** be applied to this."
   ]
  },
  {
   "cell_type": "code",
   "execution_count": 12,
   "metadata": {
    "collapsed": false
   },
   "outputs": [
    {
     "name": "stdout",
     "output_type": "stream",
     "text": [
      "Tests Passed\n"
     ]
    }
   ],
   "source": [
    "def output(x_tensor, num_outputs):\n",
    "    \"\"\"\n",
    "    Apply a output layer to x_tensor using weight and bias\n",
    "    : x_tensor: A 2-D tensor where the first dimension is batch size.\n",
    "    : num_outputs: The number of output that the new tensor should be.\n",
    "    : return: A 2-D tensor where the second dimension is num_outputs.\n",
    "    \"\"\"\n",
    "#     input_size = x_tensor.get_shape().as_list()[1]\n",
    "    \n",
    "#     weights = tf.Variable(tf.truncated_normal([input_size, num_outputs]))\n",
    "#     biases = tf.Variable(tf.zeros(num_outputs))\n",
    "    \n",
    "#     output = tf.add(tf.matmul(x_tensor, weights), biases)\n",
    "#     # TODO: Implement Function\n",
    "#     return output\n",
    "    return tf.contrib.layers.fully_connected(x_tensor, num_outputs, activation_fn = None)\n",
    "\n",
    "\"\"\"\n",
    "DON'T MODIFY ANYTHING IN THIS CELL THAT IS BELOW THIS LINE\n",
    "\"\"\"\n",
    "tests.test_output(output)"
   ]
  },
  {
   "cell_type": "markdown",
   "metadata": {},
   "source": [
    "### Create Convolutional Model\n",
    "Implement the function `conv_net` to create a convolutional neural network model. The function takes in a batch of images, `x`, and outputs logits.  Use the layers you created above to create this model:\n",
    "\n",
    "* Apply 1, 2, or 3 Convolution and Max Pool layers\n",
    "* Apply a Flatten Layer\n",
    "* Apply 1, 2, or 3 Fully Connected Layers\n",
    "* Apply an Output Layer\n",
    "* Return the output\n",
    "* Apply [TensorFlow's Dropout](https://www.tensorflow.org/api_docs/python/tf/nn/dropout) to one or more layers in the model using `keep_prob`. "
   ]
  },
  {
   "cell_type": "code",
   "execution_count": 29,
   "metadata": {
    "collapsed": false
   },
   "outputs": [
    {
     "name": "stdout",
     "output_type": "stream",
     "text": [
      "Neural Network Built!\n"
     ]
    }
   ],
   "source": [
    "def conv_net(x, keep_prob):\n",
    "    \"\"\"\n",
    "    Create a convolutional neural network model\n",
    "    : x: Placeholder tensor that holds image data.\n",
    "    : keep_prob: Placeholder tensor that hold dropout keep probability.\n",
    "    : return: Tensor that represents logits\n",
    "    \"\"\"\n",
    "    # TODO: Apply 1, 2, or 3 Convolution and Max Pool layers\n",
    "    #    Play around with different number of outputs, kernel size and stride\n",
    "    # Function Definition from Above:\n",
    "    #    conv2d_maxpool(x_tensor, conv_num_outputs, conv_ksize, conv_strides, pool_ksize, pool_strides)\n",
    "    \n",
    "    # 53% Accuracy --------------------------------------------------------------------------------------------\n",
    "#     conv1 = conv2d_maxpool(x_tensor = x, conv_num_outputs = 36, conv_ksize = [5,5], conv_strides = [1,1] \\\n",
    "#                             , pool_ksize = [2, 2], pool_strides = [2, 2])\n",
    "#     conv2 = conv2d_maxpool(x_tensor = conv1, conv_num_outputs = 36, conv_ksize = [5,5], conv_strides = [1,1] \\\n",
    "#                             , pool_ksize = [2, 2], pool_strides = [2, 2])\n",
    "#     conv3 = conv2d_maxpool(x_tensor = conv2, conv_num_outputs = 36, conv_ksize = [5,5], conv_strides = [1,1] \\\n",
    "#                             , pool_ksize = [2, 2], pool_strides = [2, 2])\n",
    "\n",
    "#     # TODO: Apply a Flatten Layer\n",
    "#     # Function Definition from Above:\n",
    "#     #    flatten(x_tensor)\n",
    "#     conv3 = flatten(conv3)\n",
    "\n",
    "#     # TODO: Apply 1, 2, or 3 Fully Connected Layers3\n",
    "#     #    Play around with different number of outputs\n",
    "#     # Function Definition from Above:\n",
    "#     #   fully_conn(x_tensor, num_outputs)\n",
    "#     fc1 = fully_conn(conv3, 1200)\n",
    "#     fc1 = tf.nn.dropout(fc1, keep_prob)\n",
    "#     fc2 = fully_conn(fc1, 400)\n",
    "#     fc2 = tf.nn.dropout(fc1, keep_prob)\n",
    "    \n",
    "    #  Accuracy --------------------------------------------------------------------------------------------\n",
    "    conv1 = conv2d_maxpool(x_tensor = x, conv_num_outputs = 32, conv_ksize = [3,3], conv_strides = [1,1] \\\n",
    "                          , pool_ksize = [1, 1], pool_strides = [1, 1])\n",
    "    conv2 = conv2d_maxpool(x_tensor = conv1, conv_num_outputs = 64, conv_ksize = [3,3], conv_strides = [1,1] \\\n",
    "                          , pool_ksize = [2, 2], pool_strides = [2, 2])\n",
    "    conv3 = conv2d_maxpool(x_tensor = conv2, conv_num_outputs = 128, conv_ksize = [3,3], conv_strides = [1,1] \\\n",
    "                          , pool_ksize = [1, 1], pool_strides = [1, 1])\n",
    "    conv4 = conv2d_maxpool(x_tensor = conv3, conv_num_outputs = 256, conv_ksize = [3,3], conv_strides = [1,1] \\\n",
    "                          , pool_ksize = [2, 2], pool_strides = [2, 2])\n",
    "#     conv5 = conv2d_maxpool(x_tensor = conv4, conv_num_outputs = 128, conv_ksize = [3,3], conv_strides = [1,1] \\\n",
    "#                           , pool_ksize = [1, 1], pool_strides = [1, 1])\n",
    "#     conv6 = conv2d_maxpool(x_tensor = conv5, conv_num_outputs = 128, conv_ksize = [3,3], conv_strides = [1,1] \\\n",
    "#                           , pool_ksize = [2, 2], pool_strides = [2, 2])\n",
    "#     conv7 = conv2d_maxpool(x_tensor = conv6, conv_num_outputs = 256, conv_ksize = [3,3], conv_strides = [1,1] \\\n",
    "#                           , pool_ksize = [1, 1], pool_strides = [1, 1])\n",
    "#     conv8 = conv2d_maxpool(x_tensor = conv7, conv_num_outputs = 256, conv_ksize = [3,3], conv_strides = [1,1] \\\n",
    "#                           , pool_ksize = [2, 2], pool_strides = [2, 2])\n",
    "#     conv9 = conv2d_maxpool(x_tensor = conv8, conv_num_outputs = 512, conv_ksize = [3,3], conv_strides = [1,1] \\\n",
    "#                           , pool_ksize = [1, 1], pool_strides = [1, 1])\n",
    "#     conv10 = conv2d_maxpool(x_tensor = conv9, conv_num_outputs = 512, conv_ksize = [3,3], conv_strides = [1,1] \\\n",
    "#                           , pool_ksize = [2, 2], pool_strides = [2, 2])\n",
    "#     conv4 = conv2d_maxpool(x_tensor = conv1, conv_num_outputs = 512, conv_ksize = [3,3], conv_strides = [1,1] \\\n",
    "#                           , pool_ksize = [2, 2], pool_strides = [2, 2])\n",
    "    \n",
    "\n",
    "    # TODO: Apply a Flatten Layer\n",
    "    # Function Definition from Above:\n",
    "    #    flatten(x_tensor)\n",
    "    flat = flatten(conv3)\n",
    "\n",
    "    # TODO: Apply 1, 2, or 3 Fully Connected Layers\n",
    "    #    Play around with different number of outputs\n",
    "    \n",
    "    # Function Definition from Above:\n",
    "    #   fully_conn(x_tensor, num_outputs)\n",
    "    fc1 = fully_conn(flat, 1024)\n",
    "    fc1 = tf.nn.dropout(fc1, keep_prob)\n",
    "    fc2 = fully_conn(fc1, 512)\n",
    "    fc2 = tf.nn.dropout(fc1, keep_prob)\n",
    "    fc3 = fully_conn(fc2, 128)\n",
    "    fc3 = tf.nn.dropout(fc3, keep_prob)\n",
    "    \n",
    "    \n",
    "    # TODO: Apply an Output Layer\n",
    "    #    Set this to the number of classes\n",
    "    # Function Definition from Above:\n",
    "    #   output(x_tensor, num_outputs)\n",
    "    out = output(fc3, 10)\n",
    "    \n",
    "    \n",
    "    # TODO: return output\n",
    "    return out\n",
    "\n",
    "\n",
    "\"\"\"\n",
    "DON'T MODIFY ANYTHING IN THIS CELL THAT IS BELOW THIS LINE\n",
    "\"\"\"\n",
    "\n",
    "##############################\n",
    "## Build the Neural Network ##\n",
    "##############################\n",
    "\n",
    "# Remove previous weights, bias, inputs, etc..\n",
    "tf.reset_default_graph()\n",
    "\n",
    "# Inputs\n",
    "x = neural_net_image_input((32, 32, 3))\n",
    "y = neural_net_label_input(10)\n",
    "keep_prob = neural_net_keep_prob_input()\n",
    "\n",
    "# Model\n",
    "logits = conv_net(x, keep_prob)\n",
    "\n",
    "# Name logits Tensor, so that is can be loaded from disk after training\n",
    "logits = tf.identity(logits, name='logits')\n",
    "\n",
    "# Loss and Optimizer\n",
    "cost = tf.reduce_mean(tf.nn.softmax_cross_entropy_with_logits(logits=logits, labels=y))\n",
    "optimizer = tf.train.AdamOptimizer().minimize(cost)\n",
    "\n",
    "# Accuracy\n",
    "correct_pred = tf.equal(tf.argmax(logits, 1), tf.argmax(y, 1))\n",
    "accuracy = tf.reduce_mean(tf.cast(correct_pred, tf.float32), name='accuracy')\n",
    "\n",
    "tests.test_conv_net(conv_net)"
   ]
  },
  {
   "cell_type": "markdown",
   "metadata": {},
   "source": [
    "## Train the Neural Network\n",
    "### Single Optimization\n",
    "Implement the function `train_neural_network` to do a single optimization.  The optimization should use `optimizer` to optimize in `session` with a `feed_dict` of the following:\n",
    "* `x` for image input\n",
    "* `y` for labels\n",
    "* `keep_prob` for keep probability for dropout\n",
    "\n",
    "This function will be called for each batch, so `tf.global_variables_initializer()` has already been called.\n",
    "\n",
    "Note: Nothing needs to be returned. This function is only optimizing the neural network."
   ]
  },
  {
   "cell_type": "code",
   "execution_count": 30,
   "metadata": {
    "collapsed": false
   },
   "outputs": [
    {
     "name": "stdout",
     "output_type": "stream",
     "text": [
      "Tests Passed\n"
     ]
    }
   ],
   "source": [
    "def train_neural_network(session, optimizer, keep_probability, feature_batch, label_batch):\n",
    "    \"\"\"\n",
    "    Optimize the session on a batch of images and labels\n",
    "    : session: Current TensorFlow session\n",
    "    : optimizer: TensorFlow optimizer function\n",
    "    : keep_probability: keep probability\n",
    "    : feature_batch: Batch of Numpy image data\n",
    "    : label_batch: Batch of Numpy label data\n",
    "    \"\"\"\n",
    "    # TODO: Implement Function\n",
    "    \n",
    "    session.run(optimizer, feed_dict= { x: feature_batch, y: label_batch, keep_prob: keep_probability})\n",
    "    \n",
    "    pass \n",
    "\n",
    "\n",
    "\"\"\"\n",
    "DON'T MODIFY ANYTHING IN THIS CELL THAT IS BELOW THIS LINE\n",
    "\"\"\"\n",
    "tests.test_train_nn(train_neural_network)"
   ]
  },
  {
   "cell_type": "markdown",
   "metadata": {},
   "source": [
    "### Show Stats\n",
    "Implement the function `print_stats` to print loss and validation accuracy.  Use the global variables `valid_features` and `valid_labels` to calculate validation accuracy.  Use a keep probability of `1.0` to calculate the loss and validation accuracy."
   ]
  },
  {
   "cell_type": "code",
   "execution_count": 31,
   "metadata": {
    "collapsed": true
   },
   "outputs": [],
   "source": [
    "def print_stats(session, feature_batch, label_batch, cost, accuracy):\n",
    "    \"\"\"\n",
    "    Print information about loss and validation accuracy\n",
    "    : session: Current TensorFlow session\n",
    "    : feature_batch: Batch of Numpy image data\n",
    "    : label_batch: Batch of Numpy label data\n",
    "    : cost: TensorFlow cost function\n",
    "    : accuracy: TensorFlow accuracy function\n",
    "    \"\"\"\n",
    "    # TODO: Implement Function\n",
    "    \n",
    "    loss = session.run(cost, feed_dict = {x: feature_batch, y: label_batch, keep_prob: 1.0})\n",
    "    valid_acc = session.run(accuracy, feed_dict = {x: valid_features, y: valid_labels, keep_prob: 1.0})\n",
    "    print('The loss is: {:>2}  The validation accuracy is: {:>2}'.format(loss, valid_acc))\n",
    "    \n",
    "    pass"
   ]
  },
  {
   "cell_type": "markdown",
   "metadata": {},
   "source": [
    "### Hyperparameters\n",
    "Tune the following parameters:\n",
    "* Set `epochs` to the number of iterations until the network stops learning or start overfitting\n",
    "* Set `batch_size` to the highest number that your machine has memory for.  Most people set them to common sizes of memory:\n",
    " * 64\n",
    " * 128\n",
    " * 256\n",
    " * ...\n",
    "* Set `keep_probability` to the probability of keeping a node using dropout"
   ]
  },
  {
   "cell_type": "code",
   "execution_count": 37,
   "metadata": {
    "collapsed": true
   },
   "outputs": [],
   "source": [
    "# TODO: Tune Parameters\n",
    "# 53%\n",
    "# epochs = 100\n",
    "# batch_size = 256\n",
    "# keep_probability = 0.5\n",
    "\n",
    "epochs = 30\n",
    "batch_size = 512\n",
    "keep_probability = 0.8"
   ]
  },
  {
   "cell_type": "markdown",
   "metadata": {},
   "source": [
    "## Train on a Single CIFAR-10 Batch\n",
    "Instead of training the neural network on all the CIFAR-10 batches of data, let's use a single batch. This should save time while you iterate on the model to get a better accuracy.  Once the final validation accuracy is 50% or greater, run the model on all the data in the next section."
   ]
  },
  {
   "cell_type": "code",
   "execution_count": 38,
   "metadata": {
    "collapsed": false
   },
   "outputs": [
    {
     "name": "stdout",
     "output_type": "stream",
     "text": [
      "Checking the Training on a Single Batch...\n",
      "Epoch  1, CIFAR-10 Batch 1:  The loss is: 2.120661735534668  The validation accuracy is: 0.24459999799728394\n",
      "Epoch  2, CIFAR-10 Batch 1:  The loss is: 2.033888101577759  The validation accuracy is: 0.2955999970436096\n",
      "Epoch  3, CIFAR-10 Batch 1:  The loss is: 2.003089666366577  The validation accuracy is: 0.30320000648498535\n",
      "Epoch  4, CIFAR-10 Batch 1:  The loss is: 1.9413390159606934  The validation accuracy is: 0.32100000977516174\n",
      "Epoch  5, CIFAR-10 Batch 1:  The loss is: 1.8709605932235718  The validation accuracy is: 0.3513999879360199\n",
      "Epoch  6, CIFAR-10 Batch 1:  The loss is: 1.8182505369186401  The validation accuracy is: 0.35040000081062317\n",
      "Epoch  7, CIFAR-10 Batch 1:  The loss is: 1.7029496431350708  The validation accuracy is: 0.3856000006198883\n",
      "Epoch  8, CIFAR-10 Batch 1:  The loss is: 1.6232494115829468  The validation accuracy is: 0.423799991607666\n",
      "Epoch  9, CIFAR-10 Batch 1:  The loss is: 1.5350509881973267  The validation accuracy is: 0.43720000982284546\n",
      "Epoch 10, CIFAR-10 Batch 1:  The loss is: 1.471060037612915  The validation accuracy is: 0.4368000030517578\n",
      "Epoch 11, CIFAR-10 Batch 1:  The loss is: 1.3817936182022095  The validation accuracy is: 0.4562000036239624\n",
      "Epoch 12, CIFAR-10 Batch 1:  The loss is: 1.301208257675171  The validation accuracy is: 0.4715999960899353\n",
      "Epoch 13, CIFAR-10 Batch 1:  The loss is: 1.2116607427597046  The validation accuracy is: 0.4724000096321106\n",
      "Epoch 14, CIFAR-10 Batch 1:  The loss is: 1.116528868675232  The validation accuracy is: 0.4869999885559082\n",
      "Epoch 15, CIFAR-10 Batch 1:  The loss is: 1.0449304580688477  The validation accuracy is: 0.5153999924659729\n",
      "Epoch 16, CIFAR-10 Batch 1:  The loss is: 0.9455782771110535  The validation accuracy is: 0.5085999965667725\n",
      "Epoch 17, CIFAR-10 Batch 1:  The loss is: 1.0091434717178345  The validation accuracy is: 0.4514000117778778\n",
      "Epoch 18, CIFAR-10 Batch 1:  The loss is: 0.804410457611084  The validation accuracy is: 0.5171999931335449\n",
      "Epoch 19, CIFAR-10 Batch 1:  The loss is: 0.7426844239234924  The validation accuracy is: 0.5081999897956848\n",
      "Epoch 20, CIFAR-10 Batch 1:  The loss is: 0.6269056797027588  The validation accuracy is: 0.5257999897003174\n",
      "Epoch 21, CIFAR-10 Batch 1:  The loss is: 0.5294656753540039  The validation accuracy is: 0.5307999849319458\n",
      "Epoch 22, CIFAR-10 Batch 1:  The loss is: 0.4470665454864502  The validation accuracy is: 0.5297999978065491\n",
      "Epoch 23, CIFAR-10 Batch 1:  The loss is: 0.3774358928203583  The validation accuracy is: 0.5242000222206116\n",
      "Epoch 24, CIFAR-10 Batch 1:  The loss is: 0.33730512857437134  The validation accuracy is: 0.5144000053405762\n",
      "Epoch 25, CIFAR-10 Batch 1:  The loss is: 0.24946406483650208  The validation accuracy is: 0.5217999815940857\n",
      "Epoch 26, CIFAR-10 Batch 1:  The loss is: 0.19837316870689392  The validation accuracy is: 0.5314000248908997\n",
      "Epoch 27, CIFAR-10 Batch 1:  The loss is: 0.1798664778470993  The validation accuracy is: 0.5234000086784363\n",
      "Epoch 28, CIFAR-10 Batch 1:  The loss is: 0.21770580112934113  The validation accuracy is: 0.5180000066757202\n",
      "Epoch 29, CIFAR-10 Batch 1:  The loss is: 0.13057249784469604  The validation accuracy is: 0.5401999950408936\n",
      "Epoch 30, CIFAR-10 Batch 1:  The loss is: 0.087844617664814  The validation accuracy is: 0.5347999930381775\n"
     ]
    }
   ],
   "source": [
    "\"\"\"\n",
    "DON'T MODIFY ANYTHING IN THIS CELL\n",
    "\"\"\"\n",
    "print('Checking the Training on a Single Batch...')\n",
    "with tf.Session() as sess:\n",
    "    # Initializing the variables\n",
    "    sess.run(tf.global_variables_initializer())\n",
    "    \n",
    "    # Training cycle\n",
    "    for epoch in range(epochs):\n",
    "        batch_i = 1\n",
    "        for batch_features, batch_labels in helper.load_preprocess_training_batch(batch_i, batch_size):\n",
    "            train_neural_network(sess, optimizer, keep_probability, batch_features, batch_labels)\n",
    "        print('Epoch {:>2}, CIFAR-10 Batch {}:  '.format(epoch + 1, batch_i), end='')\n",
    "        print_stats(sess, batch_features, batch_labels, cost, accuracy)"
   ]
  },
  {
   "cell_type": "markdown",
   "metadata": {},
   "source": [
    "### Fully Train the Model\n",
    "Now that you got a good accuracy with a single CIFAR-10 batch, try it with all five batches."
   ]
  },
  {
   "cell_type": "code",
   "execution_count": 39,
   "metadata": {
    "collapsed": false
   },
   "outputs": [
    {
     "name": "stdout",
     "output_type": "stream",
     "text": [
      "Training...\n",
      "Epoch  1, CIFAR-10 Batch 1:  The loss is: 2.08005428314209  The validation accuracy is: 0.2621999979019165\n",
      "Epoch  1, CIFAR-10 Batch 2:  The loss is: 1.9694098234176636  The validation accuracy is: 0.28040000796318054\n",
      "Epoch  1, CIFAR-10 Batch 3:  The loss is: 1.901815414428711  The validation accuracy is: 0.29760000109672546\n",
      "Epoch  1, CIFAR-10 Batch 4:  The loss is: 1.8524806499481201  The validation accuracy is: 0.28679999709129333\n",
      "Epoch  1, CIFAR-10 Batch 5:  The loss is: 1.8933179378509521  The validation accuracy is: 0.3142000138759613\n",
      "Epoch  2, CIFAR-10 Batch 1:  The loss is: 1.9284515380859375  The validation accuracy is: 0.3240000009536743\n",
      "Epoch  2, CIFAR-10 Batch 2:  The loss is: 1.7441818714141846  The validation accuracy is: 0.3569999933242798\n",
      "Epoch  2, CIFAR-10 Batch 3:  The loss is: 1.555371642112732  The validation accuracy is: 0.3917999863624573\n",
      "Epoch  2, CIFAR-10 Batch 4:  The loss is: 1.52277672290802  The validation accuracy is: 0.41499999165534973\n",
      "Epoch  2, CIFAR-10 Batch 5:  The loss is: 1.545624017715454  The validation accuracy is: 0.4300000071525574\n",
      "Epoch  3, CIFAR-10 Batch 1:  The loss is: 1.6464625597000122  The validation accuracy is: 0.4142000079154968\n",
      "Epoch  3, CIFAR-10 Batch 2:  The loss is: 1.4784531593322754  The validation accuracy is: 0.46540001034736633\n",
      "Epoch  3, CIFAR-10 Batch 3:  The loss is: 1.2845170497894287  The validation accuracy is: 0.46639999747276306\n",
      "Epoch  3, CIFAR-10 Batch 4:  The loss is: 1.280913233757019  The validation accuracy is: 0.4812000095844269\n",
      "Epoch  3, CIFAR-10 Batch 5:  The loss is: 1.3308368921279907  The validation accuracy is: 0.4934000074863434\n",
      "Epoch  4, CIFAR-10 Batch 1:  The loss is: 1.437454104423523  The validation accuracy is: 0.4830000102519989\n",
      "Epoch  4, CIFAR-10 Batch 2:  The loss is: 1.2930594682693481  The validation accuracy is: 0.5127999782562256\n",
      "Epoch  4, CIFAR-10 Batch 3:  The loss is: 1.1312357187271118  The validation accuracy is: 0.520799994468689\n",
      "Epoch  4, CIFAR-10 Batch 4:  The loss is: 1.1125038862228394  The validation accuracy is: 0.5351999998092651\n",
      "Epoch  4, CIFAR-10 Batch 5:  The loss is: 1.1535803079605103  The validation accuracy is: 0.5175999999046326\n",
      "Epoch  5, CIFAR-10 Batch 1:  The loss is: 1.189658761024475  The validation accuracy is: 0.550000011920929\n",
      "Epoch  5, CIFAR-10 Batch 2:  The loss is: 1.1692588329315186  The validation accuracy is: 0.5527999997138977\n",
      "Epoch  5, CIFAR-10 Batch 3:  The loss is: 1.0238323211669922  The validation accuracy is: 0.5595999956130981\n",
      "Epoch  5, CIFAR-10 Batch 4:  The loss is: 0.9768730401992798  The validation accuracy is: 0.5663999915122986\n",
      "Epoch  5, CIFAR-10 Batch 5:  The loss is: 0.9816300868988037  The validation accuracy is: 0.5705999732017517\n",
      "Epoch  6, CIFAR-10 Batch 1:  The loss is: 1.0756338834762573  The validation accuracy is: 0.5730000138282776\n",
      "Epoch  6, CIFAR-10 Batch 2:  The loss is: 1.008236289024353  The validation accuracy is: 0.5875999927520752\n",
      "Epoch  6, CIFAR-10 Batch 3:  The loss is: 0.9056974053382874  The validation accuracy is: 0.5861999988555908\n",
      "Epoch  6, CIFAR-10 Batch 4:  The loss is: 0.8557394742965698  The validation accuracy is: 0.5916000008583069\n",
      "Epoch  6, CIFAR-10 Batch 5:  The loss is: 0.8455150127410889  The validation accuracy is: 0.5971999764442444\n",
      "Epoch  7, CIFAR-10 Batch 1:  The loss is: 0.9893714189529419  The validation accuracy is: 0.5953999757766724\n",
      "Epoch  7, CIFAR-10 Batch 2:  The loss is: 0.920021653175354  The validation accuracy is: 0.5770000219345093\n",
      "Epoch  7, CIFAR-10 Batch 3:  The loss is: 0.8037900328636169  The validation accuracy is: 0.600600004196167\n",
      "Epoch  7, CIFAR-10 Batch 4:  The loss is: 0.7372625470161438  The validation accuracy is: 0.6114000082015991\n",
      "Epoch  7, CIFAR-10 Batch 5:  The loss is: 0.7164004445075989  The validation accuracy is: 0.6161999702453613\n",
      "Epoch  8, CIFAR-10 Batch 1:  The loss is: 0.829397439956665  The validation accuracy is: 0.6114000082015991\n",
      "Epoch  8, CIFAR-10 Batch 2:  The loss is: 0.800424337387085  The validation accuracy is: 0.5884000062942505\n",
      "Epoch  8, CIFAR-10 Batch 3:  The loss is: 0.7027941942214966  The validation accuracy is: 0.6258000135421753\n",
      "Epoch  8, CIFAR-10 Batch 4:  The loss is: 0.6001660227775574  The validation accuracy is: 0.6344000101089478\n",
      "Epoch  8, CIFAR-10 Batch 5:  The loss is: 0.632989764213562  The validation accuracy is: 0.626800000667572\n",
      "Epoch  9, CIFAR-10 Batch 1:  The loss is: 0.6902981400489807  The validation accuracy is: 0.6277999877929688\n",
      "Epoch  9, CIFAR-10 Batch 2:  The loss is: 0.6459425091743469  The validation accuracy is: 0.6331999897956848\n",
      "Epoch  9, CIFAR-10 Batch 3:  The loss is: 0.5712379217147827  The validation accuracy is: 0.6373999714851379\n",
      "Epoch  9, CIFAR-10 Batch 4:  The loss is: 0.5155558586120605  The validation accuracy is: 0.6241999864578247\n",
      "Epoch  9, CIFAR-10 Batch 5:  The loss is: 0.5092297792434692  The validation accuracy is: 0.6349999904632568\n",
      "Epoch 10, CIFAR-10 Batch 1:  The loss is: 0.6006616353988647  The validation accuracy is: 0.629800021648407\n",
      "Epoch 10, CIFAR-10 Batch 2:  The loss is: 0.5523098111152649  The validation accuracy is: 0.6417999863624573\n",
      "Epoch 10, CIFAR-10 Batch 3:  The loss is: 0.47925475239753723  The validation accuracy is: 0.6546000242233276\n",
      "Epoch 10, CIFAR-10 Batch 4:  The loss is: 0.4067087769508362  The validation accuracy is: 0.6434000134468079\n",
      "Epoch 10, CIFAR-10 Batch 5:  The loss is: 0.43485403060913086  The validation accuracy is: 0.6384000182151794\n",
      "Epoch 11, CIFAR-10 Batch 1:  The loss is: 0.43722003698349  The validation accuracy is: 0.6388000249862671\n",
      "Epoch 11, CIFAR-10 Batch 2:  The loss is: 0.4408165216445923  The validation accuracy is: 0.6439999938011169\n",
      "Epoch 11, CIFAR-10 Batch 3:  The loss is: 0.39758244156837463  The validation accuracy is: 0.644599974155426\n",
      "Epoch 11, CIFAR-10 Batch 4:  The loss is: 0.3186761438846588  The validation accuracy is: 0.6514000296592712\n",
      "Epoch 11, CIFAR-10 Batch 5:  The loss is: 0.2972774803638458  The validation accuracy is: 0.6557999849319458\n",
      "Epoch 12, CIFAR-10 Batch 1:  The loss is: 0.4091271460056305  The validation accuracy is: 0.6173999905586243\n",
      "Epoch 12, CIFAR-10 Batch 2:  The loss is: 0.3527798652648926  The validation accuracy is: 0.6431999802589417\n",
      "Epoch 12, CIFAR-10 Batch 3:  The loss is: 0.3413148820400238  The validation accuracy is: 0.651199996471405\n",
      "Epoch 12, CIFAR-10 Batch 4:  The loss is: 0.2854776084423065  The validation accuracy is: 0.6507999897003174\n",
      "Epoch 12, CIFAR-10 Batch 5:  The loss is: 0.24308565258979797  The validation accuracy is: 0.6553999781608582\n",
      "Epoch 13, CIFAR-10 Batch 1:  The loss is: 0.2580409348011017  The validation accuracy is: 0.6556000113487244\n",
      "Epoch 13, CIFAR-10 Batch 2:  The loss is: 0.26571720838546753  The validation accuracy is: 0.6531999707221985\n",
      "Epoch 13, CIFAR-10 Batch 3:  The loss is: 0.2916193902492523  The validation accuracy is: 0.652400016784668\n",
      "Epoch 13, CIFAR-10 Batch 4:  The loss is: 0.2412354052066803  The validation accuracy is: 0.6498000025749207\n",
      "Epoch 13, CIFAR-10 Batch 5:  The loss is: 0.17850647866725922  The validation accuracy is: 0.6570000052452087\n",
      "Epoch 14, CIFAR-10 Batch 1:  The loss is: 0.15860828757286072  The validation accuracy is: 0.6636000275611877\n",
      "Epoch 14, CIFAR-10 Batch 2:  The loss is: 0.1937636286020279  The validation accuracy is: 0.6618000268936157\n",
      "Epoch 14, CIFAR-10 Batch 3:  The loss is: 0.19019708037376404  The validation accuracy is: 0.6534000039100647\n",
      "Epoch 14, CIFAR-10 Batch 4:  The loss is: 0.16091956198215485  The validation accuracy is: 0.6674000024795532\n",
      "Epoch 14, CIFAR-10 Batch 5:  The loss is: 0.12770229578018188  The validation accuracy is: 0.6678000092506409\n",
      "Epoch 15, CIFAR-10 Batch 1:  The loss is: 0.12024714797735214  The validation accuracy is: 0.6657999753952026\n",
      "Epoch 15, CIFAR-10 Batch 2:  The loss is: 0.12423347681760788  The validation accuracy is: 0.6521999835968018\n",
      "Epoch 15, CIFAR-10 Batch 3:  The loss is: 0.14748959243297577  The validation accuracy is: 0.6549999713897705\n",
      "Epoch 15, CIFAR-10 Batch 4:  The loss is: 0.12104371935129166  The validation accuracy is: 0.6579999923706055\n",
      "Epoch 15, CIFAR-10 Batch 5:  The loss is: 0.09822104126214981  The validation accuracy is: 0.6638000011444092\n",
      "Epoch 16, CIFAR-10 Batch 1:  The loss is: 0.07286377996206284  The validation accuracy is: 0.6614000201225281\n",
      "Epoch 16, CIFAR-10 Batch 2:  The loss is: 0.0951106920838356  The validation accuracy is: 0.6528000235557556\n",
      "Epoch 16, CIFAR-10 Batch 3:  The loss is: 0.09187998622655869  The validation accuracy is: 0.6585999727249146\n",
      "Epoch 16, CIFAR-10 Batch 4:  The loss is: 0.07166418433189392  The validation accuracy is: 0.6733999848365784\n",
      "Epoch 16, CIFAR-10 Batch 5:  The loss is: 0.0723169595003128  The validation accuracy is: 0.6601999998092651\n",
      "Epoch 17, CIFAR-10 Batch 1:  The loss is: 0.08184262365102768  The validation accuracy is: 0.6425999999046326\n",
      "Epoch 17, CIFAR-10 Batch 2:  The loss is: 0.06946025788784027  The validation accuracy is: 0.6603999733924866\n",
      "Epoch 17, CIFAR-10 Batch 3:  The loss is: 0.06638810783624649  The validation accuracy is: 0.6661999821662903\n",
      "Epoch 17, CIFAR-10 Batch 4:  The loss is: 0.05770563334226608  The validation accuracy is: 0.6664000153541565\n",
      "Epoch 17, CIFAR-10 Batch 5:  The loss is: 0.06361157447099686  The validation accuracy is: 0.6715999841690063\n",
      "Epoch 18, CIFAR-10 Batch 1:  The loss is: 0.046396076679229736  The validation accuracy is: 0.6643999814987183\n",
      "Epoch 18, CIFAR-10 Batch 2:  The loss is: 0.0596180334687233  The validation accuracy is: 0.6535999774932861\n",
      "Epoch 18, CIFAR-10 Batch 3:  The loss is: 0.06512397527694702  The validation accuracy is: 0.6579999923706055\n",
      "Epoch 18, CIFAR-10 Batch 4:  The loss is: 0.040809985250234604  The validation accuracy is: 0.6711999773979187\n",
      "Epoch 18, CIFAR-10 Batch 5:  The loss is: 0.03853197768330574  The validation accuracy is: 0.6621999740600586\n",
      "Epoch 19, CIFAR-10 Batch 1:  The loss is: 0.03275296464562416  The validation accuracy is: 0.6603999733924866\n",
      "Epoch 19, CIFAR-10 Batch 2:  The loss is: 0.029194505885243416  The validation accuracy is: 0.6579999923706055\n",
      "Epoch 19, CIFAR-10 Batch 3:  The loss is: 0.031639326363801956  The validation accuracy is: 0.6723999977111816\n",
      "Epoch 19, CIFAR-10 Batch 4:  The loss is: 0.032031696289777756  The validation accuracy is: 0.6672000288963318\n",
      "Epoch 19, CIFAR-10 Batch 5:  The loss is: 0.03335481137037277  The validation accuracy is: 0.6632000207901001\n",
      "Epoch 20, CIFAR-10 Batch 1:  The loss is: 0.029043635353446007  The validation accuracy is: 0.6682000160217285\n",
      "Epoch 20, CIFAR-10 Batch 2:  The loss is: 0.04085954651236534  The validation accuracy is: 0.6583999991416931\n",
      "Epoch 20, CIFAR-10 Batch 3:  The loss is: 0.030006801709532738  The validation accuracy is: 0.6565999984741211\n",
      "Epoch 20, CIFAR-10 Batch 4:  The loss is: 0.026707956567406654  The validation accuracy is: 0.6654000282287598\n",
      "Epoch 20, CIFAR-10 Batch 5:  The loss is: 0.0209865290671587  The validation accuracy is: 0.6582000255584717\n",
      "Epoch 21, CIFAR-10 Batch 1:  The loss is: 0.024068579077720642  The validation accuracy is: 0.6679999828338623\n",
      "Epoch 21, CIFAR-10 Batch 2:  The loss is: 0.020389914512634277  The validation accuracy is: 0.6636000275611877\n",
      "Epoch 21, CIFAR-10 Batch 3:  The loss is: 0.015533407218754292  The validation accuracy is: 0.6633999943733215\n",
      "Epoch 21, CIFAR-10 Batch 4:  The loss is: 0.022501975297927856  The validation accuracy is: 0.66839998960495\n",
      "Epoch 21, CIFAR-10 Batch 5:  The loss is: 0.015498444437980652  The validation accuracy is: 0.6696000099182129\n",
      "Epoch 22, CIFAR-10 Batch 1:  The loss is: 0.016533013433218002  The validation accuracy is: 0.6765999794006348\n",
      "Epoch 22, CIFAR-10 Batch 2:  The loss is: 0.008859296329319477  The validation accuracy is: 0.6647999882698059\n",
      "Epoch 22, CIFAR-10 Batch 3:  The loss is: 0.011110558174550533  The validation accuracy is: 0.6664000153541565\n",
      "Epoch 22, CIFAR-10 Batch 4:  The loss is: 0.020066307857632637  The validation accuracy is: 0.6498000025749207\n",
      "Epoch 22, CIFAR-10 Batch 5:  The loss is: 0.01747852750122547  The validation accuracy is: 0.6583999991416931\n",
      "Epoch 23, CIFAR-10 Batch 1:  The loss is: 0.00921013206243515  The validation accuracy is: 0.6692000031471252\n",
      "Epoch 23, CIFAR-10 Batch 2:  The loss is: 0.01256516482681036  The validation accuracy is: 0.6693999767303467\n",
      "Epoch 23, CIFAR-10 Batch 3:  The loss is: 0.010083508677780628  The validation accuracy is: 0.6638000011444092\n",
      "Epoch 23, CIFAR-10 Batch 4:  The loss is: 0.01037617027759552  The validation accuracy is: 0.673799991607666\n",
      "Epoch 23, CIFAR-10 Batch 5:  The loss is: 0.01128607988357544  The validation accuracy is: 0.6654000282287598\n",
      "Epoch 24, CIFAR-10 Batch 1:  The loss is: 0.009146933443844318  The validation accuracy is: 0.6588000059127808\n",
      "Epoch 24, CIFAR-10 Batch 2:  The loss is: 0.006581452209502459  The validation accuracy is: 0.6650000214576721\n",
      "Epoch 24, CIFAR-10 Batch 3:  The loss is: 0.007020873017609119  The validation accuracy is: 0.6625999808311462\n",
      "Epoch 24, CIFAR-10 Batch 4:  The loss is: 0.00896923616528511  The validation accuracy is: 0.6697999835014343\n",
      "Epoch 24, CIFAR-10 Batch 5:  The loss is: 0.013533777557313442  The validation accuracy is: 0.6600000262260437\n",
      "Epoch 25, CIFAR-10 Batch 1:  The loss is: 0.009190177544951439  The validation accuracy is: 0.6710000038146973\n",
      "Epoch 25, CIFAR-10 Batch 2:  The loss is: 0.003596958238631487  The validation accuracy is: 0.670799970626831\n",
      "Epoch 25, CIFAR-10 Batch 3:  The loss is: 0.008052479475736618  The validation accuracy is: 0.670799970626831\n",
      "Epoch 25, CIFAR-10 Batch 4:  The loss is: 0.008704562671482563  The validation accuracy is: 0.6740000247955322\n",
      "Epoch 25, CIFAR-10 Batch 5:  The loss is: 0.01210340578109026  The validation accuracy is: 0.6549999713897705\n",
      "Epoch 26, CIFAR-10 Batch 1:  The loss is: 0.007494853809475899  The validation accuracy is: 0.6729999780654907\n",
      "Epoch 26, CIFAR-10 Batch 2:  The loss is: 0.004118022508919239  The validation accuracy is: 0.6690000295639038\n",
      "Epoch 26, CIFAR-10 Batch 3:  The loss is: 0.003640961367636919  The validation accuracy is: 0.6661999821662903\n",
      "Epoch 26, CIFAR-10 Batch 4:  The loss is: 0.00683971494436264  The validation accuracy is: 0.6764000058174133\n",
      "Epoch 26, CIFAR-10 Batch 5:  The loss is: 0.007565735839307308  The validation accuracy is: 0.6664000153541565\n",
      "Epoch 27, CIFAR-10 Batch 1:  The loss is: 0.006307730916887522  The validation accuracy is: 0.6639999747276306\n",
      "Epoch 27, CIFAR-10 Batch 2:  The loss is: 0.0032134708017110825  The validation accuracy is: 0.659600019454956\n",
      "Epoch 27, CIFAR-10 Batch 3:  The loss is: 0.003942859824746847  The validation accuracy is: 0.6754000186920166\n",
      "Epoch 27, CIFAR-10 Batch 4:  The loss is: 0.0054823048412799835  The validation accuracy is: 0.6729999780654907\n",
      "Epoch 27, CIFAR-10 Batch 5:  The loss is: 0.0027553217951208353  The validation accuracy is: 0.6697999835014343\n",
      "Epoch 28, CIFAR-10 Batch 1:  The loss is: 0.002406148239970207  The validation accuracy is: 0.6758000254631042\n",
      "Epoch 28, CIFAR-10 Batch 2:  The loss is: 0.0035314627457410097  The validation accuracy is: 0.6636000275611877\n",
      "Epoch 28, CIFAR-10 Batch 3:  The loss is: 0.003611550899222493  The validation accuracy is: 0.6696000099182129\n",
      "Epoch 28, CIFAR-10 Batch 4:  The loss is: 0.00642880704253912  The validation accuracy is: 0.6668000221252441\n",
      "Epoch 28, CIFAR-10 Batch 5:  The loss is: 0.002449754858389497  The validation accuracy is: 0.670199990272522\n",
      "Epoch 29, CIFAR-10 Batch 1:  The loss is: 0.001895314548164606  The validation accuracy is: 0.6732000112533569\n",
      "Epoch 29, CIFAR-10 Batch 2:  The loss is: 0.0015048596542328596  The validation accuracy is: 0.6746000051498413\n",
      "Epoch 29, CIFAR-10 Batch 3:  The loss is: 0.003488108515739441  The validation accuracy is: 0.675599992275238\n",
      "Epoch 29, CIFAR-10 Batch 4:  The loss is: 0.0017676353454589844  The validation accuracy is: 0.6710000038146973\n",
      "Epoch 29, CIFAR-10 Batch 5:  The loss is: 0.002233533887192607  The validation accuracy is: 0.6751999855041504\n",
      "Epoch 30, CIFAR-10 Batch 1:  The loss is: 0.003366742981597781  The validation accuracy is: 0.6736000180244446\n",
      "Epoch 30, CIFAR-10 Batch 2:  The loss is: 0.0018393878126516938  The validation accuracy is: 0.6729999780654907\n",
      "Epoch 30, CIFAR-10 Batch 3:  The loss is: 0.0033043972216546535  The validation accuracy is: 0.6729999780654907\n",
      "Epoch 30, CIFAR-10 Batch 4:  The loss is: 0.002499361988157034  The validation accuracy is: 0.6758000254631042\n",
      "Epoch 30, CIFAR-10 Batch 5:  The loss is: 0.004288327880203724  The validation accuracy is: 0.675599992275238\n"
     ]
    }
   ],
   "source": [
    "\"\"\"\n",
    "DON'T MODIFY ANYTHING IN THIS CELL\n",
    "\"\"\"\n",
    "save_model_path = './image_classification'\n",
    "\n",
    "print('Training...')\n",
    "with tf.Session() as sess:\n",
    "    # Initializing the variables\n",
    "    sess.run(tf.global_variables_initializer())\n",
    "    \n",
    "    # Training cycle\n",
    "    for epoch in range(epochs):\n",
    "        # Loop over all batches\n",
    "        n_batches = 5\n",
    "        for batch_i in range(1, n_batches + 1):\n",
    "            for batch_features, batch_labels in helper.load_preprocess_training_batch(batch_i, batch_size):\n",
    "                train_neural_network(sess, optimizer, keep_probability, batch_features, batch_labels)\n",
    "            print('Epoch {:>2}, CIFAR-10 Batch {}:  '.format(epoch + 1, batch_i), end='')\n",
    "            print_stats(sess, batch_features, batch_labels, cost, accuracy)\n",
    "            \n",
    "    # Save Model\n",
    "    saver = tf.train.Saver()\n",
    "    save_path = saver.save(sess, save_model_path)"
   ]
  },
  {
   "cell_type": "markdown",
   "metadata": {},
   "source": [
    "# Checkpoint\n",
    "The model has been saved to disk.\n",
    "## Test Model\n",
    "Test your model against the test dataset.  This will be your final accuracy. You should have an accuracy greater than 50%. If you don't, keep tweaking the model architecture and parameters."
   ]
  },
  {
   "cell_type": "code",
   "execution_count": 40,
   "metadata": {
    "collapsed": false
   },
   "outputs": [
    {
     "name": "stdout",
     "output_type": "stream",
     "text": [
      "Testing Accuracy: 0.6666532635688782\n",
      "\n"
     ]
    },
    {
     "data": {
      "image/png": "[encoded data removed]",
      "text/plain": [
       "<matplotlib.figure.Figure at 0x11f2e2128>"
      ]
     },
     "metadata": {
      "image/png": {
       "height": 319,
       "width": 355
      }
     },
     "output_type": "display_data"
    }
   ],
   "source": [
    "\"\"\"\n",
    "DON'T MODIFY ANYTHING IN THIS CELL\n",
    "\"\"\"\n",
    "%matplotlib inline\n",
    "%config InlineBackend.figure_format = 'retina'\n",
    "\n",
    "import tensorflow as tf\n",
    "import pickle\n",
    "import helper\n",
    "import random\n",
    "\n",
    "# Set batch size if not already set\n",
    "try:\n",
    "    if batch_size:\n",
    "        pass\n",
    "except NameError:\n",
    "    batch_size = 64\n",
    "\n",
    "save_model_path = './image_classification'\n",
    "n_samples = 4\n",
    "top_n_predictions = 3\n",
    "\n",
    "def test_model():\n",
    "    \"\"\"\n",
    "    Test the saved model against the test dataset\n",
    "    \"\"\"\n",
    "\n",
    "    test_features, test_labels = pickle.load(open('preprocess_test.p', mode='rb'))\n",
    "    loaded_graph = tf.Graph()\n",
    "\n",
    "    with tf.Session(graph=loaded_graph) as sess:\n",
    "        # Load model\n",
    "        loader = tf.train.import_meta_graph(save_model_path + '.meta')\n",
    "        loader.restore(sess, save_model_path)\n",
    "\n",
    "        # Get Tensors from loaded model\n",
    "        loaded_x = loaded_graph.get_tensor_by_name('x:0')\n",
    "        loaded_y = loaded_graph.get_tensor_by_name('y:0')\n",
    "        loaded_keep_prob = loaded_graph.get_tensor_by_name('keep_prob:0')\n",
    "        loaded_logits = loaded_graph.get_tensor_by_name('logits:0')\n",
    "        loaded_acc = loaded_graph.get_tensor_by_name('accuracy:0')\n",
    "        \n",
    "        # Get accuracy in batches for memory limitations\n",
    "        test_batch_acc_total = 0\n",
    "        test_batch_count = 0\n",
    "        \n",
    "        for test_feature_batch, test_label_batch in helper.batch_features_labels(test_features, test_labels, batch_size):\n",
    "            test_batch_acc_total += sess.run(\n",
    "                loaded_acc,\n",
    "                feed_dict={loaded_x: test_feature_batch, loaded_y: test_label_batch, loaded_keep_prob: 1.0})\n",
    "            test_batch_count += 1\n",
    "\n",
    "        print('Testing Accuracy: {}\\n'.format(test_batch_acc_total/test_batch_count))\n",
    "\n",
    "        # Print Random Samples\n",
    "        random_test_features, random_test_labels = tuple(zip(*random.sample(list(zip(test_features, test_labels)), n_samples)))\n",
    "        random_test_predictions = sess.run(\n",
    "            tf.nn.top_k(tf.nn.softmax(loaded_logits), top_n_predictions),\n",
    "            feed_dict={loaded_x: random_test_features, loaded_y: random_test_labels, loaded_keep_prob: 1.0})\n",
    "        helper.display_image_predictions(random_test_features, random_test_labels, random_test_predictions)\n",
    "\n",
    "\n",
    "test_model()"
   ]
  },
  {
   "cell_type": "markdown",
   "metadata": {},
   "source": [
    "## Why 50-80% Accuracy?\n",
    "You might be wondering why you can't get an accuracy any higher. First things first, 50% isn't bad for a simple CNN.  Pure guessing would get you 10% accuracy. However, you might notice people are getting scores [well above 80%](http://rodrigob.github.io/are_we_there_yet/build/classification_datasets_results.html#43494641522d3130).  That's because we haven't taught you all there is to know about neural networks. We still need to cover a few more techniques.\n",
    "## Submitting This Project\n",
    "When submitting this project, make sure to run all the cells before saving the notebook.  Save the notebook file as \"dlnd_image_classification.ipynb\" and save it as a HTML file under \"File\" -> \"Download as\".  Include the \"helper.py\" and \"problem_unittests.py\" files in your submission."
   ]
  }
 ],
 "metadata": {
  "kernelspec": {
   "display_name": "Python 3",
   "language": "python",
   "name": "python3"
  },
  "language_info": {
   "codemirror_mode": {
    "name": "ipython",
    "version": 3
   },
   "file_extension": ".py",
   "mimetype": "text/x-python",
   "name": "python",
   "nbconvert_exporter": "python",
   "pygments_lexer": "ipython3",
   "version": "3.6.0"
  }
 },
 "nbformat": 4,
 "nbformat_minor": 1
}
